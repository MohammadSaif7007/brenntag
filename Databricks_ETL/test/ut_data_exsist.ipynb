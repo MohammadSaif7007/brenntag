{
 "cells": [
  {
   "cell_type": "code",
   "execution_count": 0,
   "metadata": {
    "application/vnd.databricks.v1+cell": {
     "cellMetadata": {
      "byteLimit": 2048000,
      "rowLimit": 10000
     },
     "inputWidgets": {},
     "nuid": "1b5e36db-62a7-463d-af35-ef70046b9abb",
     "showTitle": false,
     "title": ""
    }
   },
   "outputs": [],
   "source": [
    "spark.conf.set(\"fs.azure.account.auth.type.dlsassign.dfs.core.windows.net\", \"SAS\")\n",
    "spark.conf.set(\"fs.azure.sas.token.provider.type.dlsassign.dfs.core.windows.net\", \"org.apache.hadoop.fs.azurebfs.sas.FixedSASTokenProvider\")\n",
    "spark.conf.set(\"fs.azure.sas.fixed.token.dlsassign.dfs.core.windows.net\", \"sv=2022-11-02&ss=bfqt&srt=sco&sp=rwdlacupyx&se=2023-08-31T03:26:51Z&st=2023-08-07T19:26:51Z&spr=https&sig=wU3ruQRItsr%2BNfdVcUerP4mqT2WHtA5QYOrPWZEGPwA%3D\")"
   ]
  },
  {
   "cell_type": "code",
   "execution_count": 0,
   "metadata": {
    "application/vnd.databricks.v1+cell": {
     "cellMetadata": {
      "byteLimit": 2048000,
      "rowLimit": 10000
     },
     "inputWidgets": {},
     "nuid": "b5dfd2d7-7525-4679-ae0a-b30be53b03c6",
     "showTitle": false,
     "title": ""
    }
   },
   "outputs": [
    {
     "output_type": "stream",
     "name": "stderr",
     "output_type": "stream",
     "text": [
      "/usr/lib/python3.9/socket.py:775: ResourceWarning: unclosed <socket.socket fd=59, family=AddressFamily.AF_INET, type=SocketKind.SOCK_STREAM, proto=6, laddr=('127.0.0.1', 49894), raddr=('127.0.0.1', 46129)>\n  self._sock = None\nResourceWarning: Enable tracemalloc to get the object allocation traceback\n."
     ]
    },
    {
     "output_type": "stream",
     "name": "stdout",
     "output_type": "stream",
     "text": [
      "Bucket is not empty\n"
     ]
    },
    {
     "output_type": "stream",
     "name": "stderr",
     "output_type": "stream",
     "text": [
      "\n----------------------------------------------------------------------\nRan 1 test in 36.970s\n\nOK\n\n"
     ]
    }
   ],
   "source": [
    "import unittest\n",
    "from pyspark.sql import SparkSession\n",
    "from pyspark.sql.utils import AnalysisException\n",
    "\n",
    "class TestDataTransfer(unittest.TestCase):    \n",
    "    def test_data_transfer(self):\n",
    "        \"\"\"\n",
    "        Test the data transfer logic using Spark DataFrames.\n",
    "\n",
    "        This method performs the following steps:\n",
    "        1. Reads data from the source container 'demo-data' and displays it.\n",
    "        2. Tries to read existing data from the destination container 'raw'. If it fails, assumes no existing data.\n",
    "        3. Computes the incremental DataFrame based on whether existing data is available.\n",
    "        4. Checks if the incremental DataFrame contains any rows and prints corresponding messages.\n",
    "        \"\"\"\n",
    "        # Reads data from container demo-data and display it\n",
    "        source_data_df = spark.read.csv('abfs://demo-data@dlsassign.dfs.core.windows.net/Customers.csv', header=True)\n",
    "        \n",
    "        # Read existing data from the destination container if available\n",
    "        try:\n",
    "            existing_df = spark.read.parquet('abfs://raw@dlsassign.dfs.core.windows.net/customers.parquet')\n",
    "        except AnalysisException:\n",
    "            existing_df = None\n",
    "        \n",
    "        # Your data transfer logic\n",
    "        if existing_df is not None:\n",
    "            incremental_df = existing_df.exceptAll(source_data_df)\n",
    "        else:\n",
    "            incremental_df = source_data_df\n",
    "        \n",
    "        # Verify if the DataFrame is empty or not using count()\n",
    "        if incremental_df.head(1):\n",
    "            print(\"Bucket is empty\")\n",
    "            # Here, you can write logic to save the DataFrame or any other verification\n",
    "        else:\n",
    "            print(\"Bucket is not empty\")\n",
    "            \n",
    "if __name__ == \"__main__\":\n",
    "    test_runner = unittest.main(argv=[''], exit=False)\n",
    "    test_runner.result.printErrors()\n"
   ]
  },
  {
   "cell_type": "code",
   "execution_count": 0,
   "metadata": {
    "application/vnd.databricks.v1+cell": {
     "cellMetadata": {},
     "inputWidgets": {},
     "nuid": "b9802b8b-a780-4678-96fa-f81f93c43b95",
     "showTitle": false,
     "title": ""
    }
   },
   "outputs": [],
   "source": []
  }
 ],
 "metadata": {
  "application/vnd.databricks.v1+notebook": {
   "dashboards": [],
   "language": "python",
   "notebookMetadata": {
    "pythonIndentUnit": 4
   },
   "notebookName": "ut_data_exsist",
   "widgets": {}
  }
 },
 "nbformat": 4,
 "nbformat_minor": 0
}
