{
 "cells": [
  {
   "cell_type": "code",
   "execution_count": 0,
   "metadata": {
    "application/vnd.databricks.v1+cell": {
     "cellMetadata": {
      "byteLimit": 2048000,
      "rowLimit": 10000
     },
     "inputWidgets": {},
     "nuid": "f4393a8b-254f-49fe-88db-bdf82c7fd874",
     "showTitle": false,
     "title": ""
    }
   },
   "outputs": [],
   "source": [
    "spark.conf.set(\"fs.azure.account.auth.type.dlsassign.dfs.core.windows.net\", \"SAS\")\n",
    "spark.conf.set(\"fs.azure.sas.token.provider.type.dlsassign.dfs.core.windows.net\", \"org.apache.hadoop.fs.azurebfs.sas.FixedSASTokenProvider\")\n",
    "spark.conf.set(\"fs.azure.sas.fixed.token.dlsassign.dfs.core.windows.net\", \"sv=2022-11-02&ss=bfqt&srt=sco&sp=rwdlacupyx&se=2023-08-31T03:26:51Z&st=2023-08-07T19:26:51Z&spr=https&sig=wU3ruQRItsr%2BNfdVcUerP4mqT2WHtA5QYOrPWZEGPwA%3D\")"
   ]
  },
  {
   "cell_type": "code",
   "execution_count": 0,
   "metadata": {
    "application/vnd.databricks.v1+cell": {
     "cellMetadata": {
      "byteLimit": 2048000,
      "rowLimit": 10000
     },
     "inputWidgets": {},
     "nuid": "20ede853-bec7-41c2-9a0d-1e2726312d87",
     "showTitle": false,
     "title": ""
    }
   },
   "outputs": [
    {
     "output_type": "display_data",
     "data": {
      "text/html": [
       "<style scoped>\n",
       "  .table-result-container {\n",
       "    max-height: 300px;\n",
       "    overflow: auto;\n",
       "  }\n",
       "  table, th, td {\n",
       "    border: 1px solid black;\n",
       "    border-collapse: collapse;\n",
       "  }\n",
       "  th, td {\n",
       "    padding: 5px;\n",
       "  }\n",
       "  th {\n",
       "    text-align: left;\n",
       "  }\n",
       "</style><div class='table-result-container'><table class='table-result'><thead style='background-color: white'><tr><th>customer_id</th><th>company_name</th><th>specialized_industries</th></tr></thead><tbody><tr><td>06ec6a8a-c3d9-4b06-bab2-fd4af45f0788</td><td>Skilith</td><td>Colours</td></tr><tr><td>b9b1b6d9-4e0e-4573-b9ef-65c89e091633</td><td>Wordify</td><td>Cosmetics</td></tr><tr><td>b9b1b6d9-4e0e-4573-b9ef-65c89e091633</td><td>Wordify</td><td>Pharmaceuticals</td></tr><tr><td>4273d6fb-9f90-4965-a2fe-0bf36ac58b31</td><td>Pixonyx</td><td>Agriculture</td></tr><tr><td>4273d6fb-9f90-4965-a2fe-0bf36ac58b31</td><td>Pixonyx</td><td>Food</td></tr><tr><td>89690dc5-db68-4020-983c-60b4ce7fb791</td><td>Shufflester</td><td>Ploymer</td></tr><tr><td>9839db82-976b-4bcd-a7e8-02c974b8f6bb</td><td>Pixoboo</td><td>Lubricants</td></tr><tr><td>9839db82-976b-4bcd-a7e8-02c974b8f6bb</td><td>Pixoboo</td><td>Polymer</td></tr><tr><td>3f9a6f79-2afb-4d70-86f8-f72161e91ab9</td><td>Yabox</td><td>Cleaning</td></tr><tr><td>cc6fbe08-518b-44d1-93ec-2c721c54a79b</td><td>Yoveo</td><td>Construction</td></tr><tr><td>eedc2471-4826-4db8-a131-62cac7fbb123</td><td>Aimbo</td><td>Oil&Gas</td></tr><tr><td>eedc2471-4826-4db8-a131-62cac7fbb123</td><td>Aimbo</td><td>Lubricants</td></tr><tr><td>eedc2471-4826-4db8-a131-62cac7fbb123</td><td>Aimbo</td><td>Polymer</td></tr><tr><td>634c3d56-c477-4379-adfc-eeaf3112fa89</td><td>Brainbox</td><td>Colours</td></tr><tr><td>0674efa6-ea2c-4317-8fa2-b685e15ce3b7</td><td>Zoombox</td><td>Construction</td></tr><tr><td>54920ba7-09fa-4275-8acf-5ee3ca5ba8fa</td><td>Innotype</td><td>Polymer</td></tr><tr><td>23836a89-cbbd-4271-9571-0ec5b90773b8</td><td>Dynazzy</td><td>Cosmetics</td></tr><tr><td>23836a89-cbbd-4271-9571-0ec5b90773b8</td><td>Dynazzy</td><td>Pharmaceuticals</td></tr><tr><td>76b2f7d6-0834-4dd0-8e32-7cb160cc27b4</td><td>Skynoodle</td><td>Pharmaceuticals</td></tr><tr><td>62099aa7-72c8-4de5-9494-99ae3bc89ebd</td><td>Voolith</td><td>Cosmetics</td></tr><tr><td>7f7378de-6ba7-4c26-96bb-c60f90983171</td><td>Blogspan</td><td>Agriculture</td></tr><tr><td>b116e02a-6e15-42c7-9617-9a316ec2b607</td><td>Tagcat</td><td>Construction</td></tr><tr><td>163b92ba-dca8-4398-88a1-c7bfa3b8e256</td><td>Meevee</td><td>Polymer</td></tr><tr><td>64201d02-48ad-4c0f-8ce6-e64583c2ef3a</td><td>Mydo</td><td>Colours</td></tr><tr><td>64201d02-48ad-4c0f-8ce6-e64583c2ef3a</td><td>Mydo</td><td>Cleaning</td></tr><tr><td>2b92adb3-9631-4f8f-9e9b-754d12b45c1f</td><td>Centimia</td><td>Agriculture</td></tr><tr><td>d3b59a31-7baf-43f5-afd6-754fde1468e2</td><td>Avamba</td><td>Food</td></tr><tr><td>b7d11001-d339-407e-9fd5-4438cc21522f</td><td>Photobug</td><td>Cleaning</td></tr><tr><td>85ecc5f5-9dc2-4488-b6ad-4ce9ed5c97fc</td><td>Jetwire</td><td>Construction</td></tr><tr><td>b3b191a0-745b-4e14-b74c-ba2cf6b30526</td><td>Thoughtstorm</td><td>Pharmaceuticals</td></tr><tr><td>b3b191a0-745b-4e14-b74c-ba2cf6b30526</td><td>Thoughtstorm</td><td>Polymer</td></tr><tr><td>8d675ab9-3f1d-44af-8e9d-1d5324f002c2</td><td>Kazu</td><td>Cosmetics</td></tr><tr><td>8d675ab9-3f1d-44af-8e9d-1d5324f002c2</td><td>Kazu</td><td>Food</td></tr><tr><td>8d675ab9-3f1d-44af-8e9d-1d5324f002c2</td><td>Kazu</td><td>Pharmaceuticals</td></tr><tr><td>dede099a-6c1d-41fd-83f8-fb316589b2d7</td><td>Camido</td><td>Construction</td></tr><tr><td>9df2ccd5-61a2-45fb-ad34-c47e7f97ebaf</td><td>Plambee</td><td>Food</td></tr><tr><td>a7b046d4-950e-46ab-bcce-c24b585312f6</td><td>Voonyx</td><td>Cosmetics</td></tr><tr><td>890cf742-e1ff-4399-bd38-ecf6f5718006</td><td>Skyba</td><td>Agriculture</td></tr><tr><td>89ed0c10-3652-4296-8b7c-a8433ac7404c</td><td>Voolia</td><td>Oil&Gas</td></tr></tbody></table></div>"
      ]
     },
     "metadata": {
      "application/vnd.databricks.v1+output": {
       "addedWidgets": {},
       "aggData": [],
       "aggError": "",
       "aggOverflow": false,
       "aggSchema": [],
       "aggSeriesLimitReached": false,
       "aggType": "",
       "arguments": {},
       "columnCustomDisplayInfos": {},
       "data": [
        [
         "06ec6a8a-c3d9-4b06-bab2-fd4af45f0788",
         "Skilith",
         "Colours"
        ],
        [
         "b9b1b6d9-4e0e-4573-b9ef-65c89e091633",
         "Wordify",
         "Cosmetics"
        ],
        [
         "b9b1b6d9-4e0e-4573-b9ef-65c89e091633",
         "Wordify",
         "Pharmaceuticals"
        ],
        [
         "4273d6fb-9f90-4965-a2fe-0bf36ac58b31",
         "Pixonyx",
         "Agriculture"
        ],
        [
         "4273d6fb-9f90-4965-a2fe-0bf36ac58b31",
         "Pixonyx",
         "Food"
        ],
        [
         "89690dc5-db68-4020-983c-60b4ce7fb791",
         "Shufflester",
         "Ploymer"
        ],
        [
         "9839db82-976b-4bcd-a7e8-02c974b8f6bb",
         "Pixoboo",
         "Lubricants"
        ],
        [
         "9839db82-976b-4bcd-a7e8-02c974b8f6bb",
         "Pixoboo",
         "Polymer"
        ],
        [
         "3f9a6f79-2afb-4d70-86f8-f72161e91ab9",
         "Yabox",
         "Cleaning"
        ],
        [
         "cc6fbe08-518b-44d1-93ec-2c721c54a79b",
         "Yoveo",
         "Construction"
        ],
        [
         "eedc2471-4826-4db8-a131-62cac7fbb123",
         "Aimbo",
         "Oil&Gas"
        ],
        [
         "eedc2471-4826-4db8-a131-62cac7fbb123",
         "Aimbo",
         "Lubricants"
        ],
        [
         "eedc2471-4826-4db8-a131-62cac7fbb123",
         "Aimbo",
         "Polymer"
        ],
        [
         "634c3d56-c477-4379-adfc-eeaf3112fa89",
         "Brainbox",
         "Colours"
        ],
        [
         "0674efa6-ea2c-4317-8fa2-b685e15ce3b7",
         "Zoombox",
         "Construction"
        ],
        [
         "54920ba7-09fa-4275-8acf-5ee3ca5ba8fa",
         "Innotype",
         "Polymer"
        ],
        [
         "23836a89-cbbd-4271-9571-0ec5b90773b8",
         "Dynazzy",
         "Cosmetics"
        ],
        [
         "23836a89-cbbd-4271-9571-0ec5b90773b8",
         "Dynazzy",
         "Pharmaceuticals"
        ],
        [
         "76b2f7d6-0834-4dd0-8e32-7cb160cc27b4",
         "Skynoodle",
         "Pharmaceuticals"
        ],
        [
         "62099aa7-72c8-4de5-9494-99ae3bc89ebd",
         "Voolith",
         "Cosmetics"
        ],
        [
         "7f7378de-6ba7-4c26-96bb-c60f90983171",
         "Blogspan",
         "Agriculture"
        ],
        [
         "b116e02a-6e15-42c7-9617-9a316ec2b607",
         "Tagcat",
         "Construction"
        ],
        [
         "163b92ba-dca8-4398-88a1-c7bfa3b8e256",
         "Meevee",
         "Polymer"
        ],
        [
         "64201d02-48ad-4c0f-8ce6-e64583c2ef3a",
         "Mydo",
         "Colours"
        ],
        [
         "64201d02-48ad-4c0f-8ce6-e64583c2ef3a",
         "Mydo",
         "Cleaning"
        ],
        [
         "2b92adb3-9631-4f8f-9e9b-754d12b45c1f",
         "Centimia",
         "Agriculture"
        ],
        [
         "d3b59a31-7baf-43f5-afd6-754fde1468e2",
         "Avamba",
         "Food"
        ],
        [
         "b7d11001-d339-407e-9fd5-4438cc21522f",
         "Photobug",
         "Cleaning"
        ],
        [
         "85ecc5f5-9dc2-4488-b6ad-4ce9ed5c97fc",
         "Jetwire",
         "Construction"
        ],
        [
         "b3b191a0-745b-4e14-b74c-ba2cf6b30526",
         "Thoughtstorm",
         "Pharmaceuticals"
        ],
        [
         "b3b191a0-745b-4e14-b74c-ba2cf6b30526",
         "Thoughtstorm",
         "Polymer"
        ],
        [
         "8d675ab9-3f1d-44af-8e9d-1d5324f002c2",
         "Kazu",
         "Cosmetics"
        ],
        [
         "8d675ab9-3f1d-44af-8e9d-1d5324f002c2",
         "Kazu",
         "Food"
        ],
        [
         "8d675ab9-3f1d-44af-8e9d-1d5324f002c2",
         "Kazu",
         "Pharmaceuticals"
        ],
        [
         "dede099a-6c1d-41fd-83f8-fb316589b2d7",
         "Camido",
         "Construction"
        ],
        [
         "9df2ccd5-61a2-45fb-ad34-c47e7f97ebaf",
         "Plambee",
         "Food"
        ],
        [
         "a7b046d4-950e-46ab-bcce-c24b585312f6",
         "Voonyx",
         "Cosmetics"
        ],
        [
         "890cf742-e1ff-4399-bd38-ecf6f5718006",
         "Skyba",
         "Agriculture"
        ],
        [
         "89ed0c10-3652-4296-8b7c-a8433ac7404c",
         "Voolia",
         "Oil&Gas"
        ]
       ],
       "datasetInfos": [],
       "dbfsResultPath": null,
       "isJsonSchema": true,
       "metadata": {},
       "overflow": false,
       "plotOptions": {
        "customPlotOptions": {},
        "displayType": "table",
        "pivotAggregation": null,
        "pivotColumns": null,
        "xColumns": null,
        "yColumns": null
       },
       "removedWidgets": [],
       "schema": [
        {
         "metadata": "{}",
         "name": "customer_id",
         "type": "\"string\""
        },
        {
         "metadata": "{}",
         "name": "company_name",
         "type": "\"string\""
        },
        {
         "metadata": "{}",
         "name": "specialized_industries",
         "type": "\"string\""
        }
       ],
       "type": "table"
      }
     },
     "output_type": "display_data"
    }
   ],
   "source": [
    "customers_df = spark.sql(f\"SELECT * FROM cleansed.customers\")\n",
    "display(customers_df)"
   ]
  },
  {
   "cell_type": "code",
   "execution_count": 0,
   "metadata": {
    "application/vnd.databricks.v1+cell": {
     "cellMetadata": {
      "byteLimit": 2048000,
      "rowLimit": 10000
     },
     "inputWidgets": {},
     "nuid": "cb7d738a-235f-4d12-ac5a-35dcda59fec5",
     "showTitle": false,
     "title": ""
    }
   },
   "outputs": [
    {
     "output_type": "stream",
     "name": "stderr",
     "output_type": "stream",
     "text": [
      "/usr/lib/python3.9/socket.py:775: ResourceWarning: unclosed <socket.socket fd=59, family=AddressFamily.AF_INET, type=SocketKind.SOCK_STREAM, proto=6, laddr=('127.0.0.1', 42858), raddr=('127.0.0.1', 36861)>\n  self._sock = None\nResourceWarning: Enable tracemalloc to get the object allocation traceback\n/usr/lib/python3.9/socket.py:775: ResourceWarning: unclosed <socket.socket fd=59, family=AddressFamily.AF_INET, type=SocketKind.SOCK_STREAM, proto=6, laddr=('127.0.0.1', 49620), raddr=('127.0.0.1', 35161)>\n  self._sock = None\nResourceWarning: Enable tracemalloc to get the object allocation traceback\n.\n----------------------------------------------------------------------\nRan 1 test in 44.918s\n\nOK\n\n"
     ]
    }
   ],
   "source": [
    "import unittest\n",
    "from pyspark.sql.functions import col\n",
    "from pyspark.sql import DataFrame\n",
    "\n",
    "class TestDataConsistency(unittest.TestCase):\n",
    "    # @classmethod\n",
    "    # def setUpClass(cls):\n",
    "    #     cls.spark = SparkSession.builder.master(\"local[*]\").appName(\"test\").getOrCreate()\n",
    "\n",
    "    # @classmethod\n",
    "    # def tearDownClass(cls):\n",
    "    #     cls.spark.stop()\n",
    "\n",
    "    def test_data_consistency(self):\n",
    "        # Load data from cleansed.customers and curated.live_orders tables\n",
    "        customers_df = spark.sql(f\"SELECT * FROM cleansed.customers\")\n",
    "        live_orders_df = spark.sql(f\"SELECT * FROM curated.live_orders\")\n",
    "        # Perform consistency checks and assertions\n",
    "        self.assertTrue(isinstance(customers_df, DataFrame))\n",
    "        self.assertTrue(isinstance(live_orders_df, DataFrame))\n",
    "\n",
    "        # Check if common columns (e.g., customer_id) exist in both tables\n",
    "        self.assertIn(\"customer_id\", customers_df.columns)\n",
    "        self.assertIn(\"order_customer_id\", live_orders_df.columns)\n",
    "        \n",
    "        # Perform data consistency checks (example: matching customer IDs)\n",
    "        consistent_customer_ids = customers_df.select(\"customer_id\").distinct().collect()\n",
    "        order_customer_ids = live_orders_df.select(\"order_customer_id\").distinct().collect()\n",
    "        cuonsistent_cust_id = [c[\"customer_id\"] for c in consistent_customer_ids]\n",
    "        #print(consistent_customer_ids)\n",
    "        for row in order_customer_ids:\n",
    "            self.assertIn(row[0], cuonsistent_cust_id)\n",
    "\n",
    "if __name__ == \"__main__\":\n",
    "    test_runner = unittest.main(argv=[''], exit=False)\n",
    "    test_runner.result.printErrors()\n"
   ]
  },
  {
   "cell_type": "code",
   "execution_count": 0,
   "metadata": {
    "application/vnd.databricks.v1+cell": {
     "cellMetadata": {},
     "inputWidgets": {},
     "nuid": "89f49c7a-2ddf-496b-b7e9-c7aa65025b45",
     "showTitle": false,
     "title": ""
    }
   },
   "outputs": [],
   "source": []
  }
 ],
 "metadata": {
  "application/vnd.databricks.v1+notebook": {
   "dashboards": [],
   "language": "python",
   "notebookMetadata": {
    "pythonIndentUnit": 4
   },
   "notebookName": "data_quality_testing",
   "widgets": {}
  }
 },
 "nbformat": 4,
 "nbformat_minor": 0
}
